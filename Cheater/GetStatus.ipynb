{
 "cells": [
  {
   "cell_type": "code",
   "execution_count": 57,
   "metadata": {},
   "outputs": [],
   "source": [
    "import json\n",
    "import requests\n",
    "import csv\n",
    "import time"
   ]
  },
  {
   "cell_type": "code",
   "execution_count": 58,
   "metadata": {},
   "outputs": [],
   "source": [
    "API_KEY = \"d26ca537-2847-4aeb-9dc8-768a7e5eea7d\""
   ]
  },
  {
   "cell_type": "code",
   "execution_count": 59,
   "metadata": {},
   "outputs": [],
   "source": [
    "def getinfo(call):\n",
    "    r = requests.get(call,timeout=10)\n",
    "    return r.json()"
   ]
  },
  {
   "cell_type": "code",
   "execution_count": 60,
   "metadata": {},
   "outputs": [],
   "source": [
    "# with open('Cheaters.json') as f:\n",
    "#     cheaters_uuids = json.load(f)\n",
    "with open('Players.json') as f:\n",
    "    players_uuids = json.load(f)"
   ]
  },
  {
   "cell_type": "code",
   "execution_count": 61,
   "metadata": {},
   "outputs": [],
   "source": [
    "dic_labels = [\n",
    "    'karma',\n",
    "    'networkExp',\n",
    "    # 'newPackageRank',\n",
    "    # 'particlePack',\n",
    "    # 'playername',\n",
    "    # 'questSettings',\n",
    "    # 'rankPlusColor',\n",
    "]\n",
    "achievements = [\n",
    "    'bedwars_beds',\n",
    "    'bedwars_bedwars_challenger',\n",
    "    'bedwars_bedwars_killer',\n",
    "    'bedwars_collectors_edition',\n",
    "    'bedwars_level',\n",
    "    'bedwars_loot_box',\n",
    "    'bedwars_slumber_ticket_master',\n",
    "    'bedwars_wins',\n",
    "]\n",
    "challenges = [\n",
    "    'challenges','all_time'\n",
    "    'BEDWARS__defensive',\n",
    "    'BEDWARS__offensive',\n",
    "    'BEDWARS__support',\n",
    "]\n",
    "statuses = [\n",
    "    'Bedwars_openedChests',\n",
    "    'Experience',\n",
    "    '_items_purchased_bedwars',\n",
    "    # 'activeWoodType',\n",
    "    'beds_broken_bedwars',\n",
    "    'beds_lost_bedwars',\n",
    "    'coins',\n",
    "    'deaths_bedwars',\n",
    "    'diamond_resources_collected_bedwars',\n",
    "    'emerald_resources_collected_bedwars',\n",
    "    'fall_deaths_bedwars',\n",
    "    'fall_final_deaths_bedwars',\n",
    "    'fall_final_kills_bedwars',\n",
    "    'fall_kills_bedwars',\n",
    "    # 'favourites_2',\n",
    "    'final_deaths_bedwars',\n",
    "    'final_kills_bedwars',\n",
    "    'games_played_bedwars',\n",
    "    'games_played_bedwars_1',\n",
    "    'kills_bedwars',\n",
    "    'losses_bedwars',\n",
    "    'void_deaths_bedwars',\n",
    "    'void_final_deaths_bedwars',\n",
    "    'void_final_kills_bedwars',\n",
    "    'void_kills_bedwars',\n",
    "    'wins_bedwars',\n",
    "]"
   ]
  },
  {
   "cell_type": "code",
   "execution_count": 62,
   "metadata": {},
   "outputs": [
    {
     "name": "stdout",
     "output_type": "stream",
     "text": [
      "['karma', 'networkExp', 'bedwars_beds', 'bedwars_bedwars_challenger', 'bedwars_bedwars_killer', 'bedwars_collectors_edition', 'bedwars_level', 'bedwars_loot_box', 'bedwars_slumber_ticket_master', 'bedwars_wins', 'challenges', 'all_timeBEDWARS__defensive', 'BEDWARS__offensive', 'BEDWARS__support', 'Bedwars_openedChests', 'Experience', '_items_purchased_bedwars', 'beds_broken_bedwars', 'beds_lost_bedwars', 'coins', 'deaths_bedwars', 'diamond_resources_collected_bedwars', 'emerald_resources_collected_bedwars', 'fall_deaths_bedwars', 'fall_final_deaths_bedwars', 'fall_final_kills_bedwars', 'fall_kills_bedwars', 'final_deaths_bedwars', 'final_kills_bedwars', 'games_played_bedwars', 'games_played_bedwars_1', 'kills_bedwars', 'losses_bedwars', 'void_deaths_bedwars', 'void_final_deaths_bedwars', 'void_final_kills_bedwars', 'void_kills_bedwars', 'wins_bedwars', 'Cheat']\n"
     ]
    }
   ],
   "source": [
    "labels = dic_labels+achievements+challenges+statuses+[\"Cheat\"]\n",
    "print(labels)"
   ]
  },
  {
   "cell_type": "code",
   "execution_count": 63,
   "metadata": {},
   "outputs": [],
   "source": [
    "def get_status(cheat, uuids):\n",
    "    data_list = []\n",
    "    for i, uuid in enumerate(uuids):\n",
    "        uuid_link = f\"https://api.hypixel.net/player?key={API_KEY}&uuid={uuid}\"\n",
    "        data_dic = getinfo(uuid_link)\n",
    "        datas = []\n",
    "        if \"cause\" in data_dic and data_dic[\"cause\"] == \"Key throttle\":\n",
    "            time.sleep(300)\n",
    "        if data_dic is not None and \"player\" in data_dic and data_dic[\"player\"] is not None:\n",
    "            for dic_label in dic_labels:\n",
    "                if dic_label in data_dic[\"player\"]:\n",
    "                    datas.append(data_dic[\"player\"][dic_label])\n",
    "                else:\n",
    "                    datas.append(0)\n",
    "            for achievement in achievements:\n",
    "                if 'achievements' in data_dic[\"player\"] and achievement in data_dic[\"player\"]['achievements']:\n",
    "                    datas.append(data_dic[\"player\"]['achievements'][achievement])\n",
    "                else:\n",
    "                    datas.append(0)\n",
    "            for challenge in challenges:\n",
    "                if 'challenges' in data_dic[\"player\"] and 'all_time' in data_dic[\"player\"]['challenges'] and challenge in data_dic[\"player\"]['challenges']['all_time']:\n",
    "                    datas.append(data_dic[\"player\"]['challenges']['all_time'][challenge])\n",
    "                else:\n",
    "                    datas.append(0)\n",
    "            for stats in statuses:\n",
    "                if 'stats' in data_dic[\"player\"] and 'Bedwars' in data_dic[\"player\"]['stats'] and stats in data_dic[\"player\"]['stats']['Bedwars']:\n",
    "                    datas.append(data_dic[\"player\"]['stats']['Bedwars'][stats])\n",
    "                else:\n",
    "                    datas.append(0)\n",
    "            if cheat:\n",
    "                datas.append(0)\n",
    "            else:\n",
    "                datas.append(1)\n",
    "            if not all(i == 0 for i in datas):\n",
    "                data_list.append(datas)\n",
    "                # print(f\"{datas[0:len(datas)-1]}\")\n",
    "            for j in [datas[28] / datas[27], datas[37] / datas[32], datas[17] / datas[18], datas[28] / datas[6], datas[31] / datas[6], datas[17] / datas[6]]:\n",
    "                datas.append(j)\n",
    "        else:\n",
    "            print(i, data_dic)\n",
    "    return data_list"
   ]
  },
  {
   "cell_type": "code",
   "execution_count": 64,
   "metadata": {},
   "outputs": [],
   "source": [
    "# cheaters_datas = get_status(True, cheaters_uuids)\n",
    "# players_datas = get_status(False, players_uuids)"
   ]
  },
  {
   "cell_type": "code",
   "execution_count": 65,
   "metadata": {},
   "outputs": [],
   "source": [
    "# with open('./Cheaters.csv', 'r',) as e:\n",
    "#     data = e.read()\n",
    "#     data = data.split(\"\\n\")\n",
    "#     csv_list = []\n",
    "#     for item in data:\n",
    "#         split_item = item.split(\",\")\n",
    "#         csv_list.append(split_item)\n",
    "# print(len(players_datas))\n",
    "# with open('./Players.csv', 'w') as f:\n",
    "#     writer = csv.writer(f, lineterminator='\\n')\n",
    "#     writer.writerow(labels)\n",
    "#     writer.writerows(players_datas)\n",
    "    # writer.writerows(players_datas)"
   ]
  },
  {
   "cell_type": "code",
   "execution_count": 66,
   "metadata": {},
   "outputs": [
    {
     "name": "stdout",
     "output_type": "stream",
     "text": [
      "[381135, 6514661.0, 810, 30, 2331, 4604, 172, 168, 194, 1263, 0, 0, 90, 62, 504, 836792, 47915, 810, 1423, 750865, 9234, 2445, 1429, 458, 63, 87, 331, 1375, 1993, 2542, 2989, 5443, 1279, 4311, 411, 666, 2257, 1263, 1, 1.4494545454545456, 0.9874902267396404, 0.5692199578355587, 11.587209302325581, 31.6453488372093, 4.709302325581396]\n"
     ]
    }
   ],
   "source": [
    "players_datas = get_status(False, [\"1ced16db2bc54354917f7bf8382b8840\"])\n",
    "for item in players_datas:\n",
    "    # print(f\"{item[0:len(item)-1]},\")\n",
    "    print(item)"
   ]
  },
  {
   "cell_type": "code",
   "execution_count": 67,
   "metadata": {},
   "outputs": [
    {
     "name": "stdout",
     "output_type": "stream",
     "text": [
      "381135,6514661.0,810,30,2331,4604,172,168,194,1263,0,0,90,62,504,836792,47915,810,1423,750865,9234,2445,1429,458,63,87,331,1375,1993,2542,2989,5443,1279,4311,411,666,2257,1263,1,1.4494545454545456,0.9874902267396404,0.5692199578355587,11.587209302325581,31.6453488372093,4.709302325581396\n"
     ]
    }
   ],
   "source": [
    "for item in players_datas:\n",
    "    for i,iitem in enumerate(item):\n",
    "        if i == len(item)-1:\n",
    "            print(f\"{iitem}\")\n",
    "        else:\n",
    "            print(f\"{iitem},\",end=\"\")"
   ]
  },
  {
   "cell_type": "code",
   "execution_count": 68,
   "metadata": {},
   "outputs": [],
   "source": [
    "# with open('./Cheaters.txt', 'r',) as e:\n",
    "#     data = e.read()\n",
    "#     uuid_list = data.split(\"\\n\")\n",
    "# for item in uuid_list:\n",
    "#     print(f'\"{item}\",')"
   ]
  }
 ],
 "metadata": {
  "kernelspec": {
   "display_name": "Python 3",
   "language": "python",
   "name": "python3"
  },
  "language_info": {
   "codemirror_mode": {
    "name": "ipython",
    "version": 3
   },
   "file_extension": ".py",
   "mimetype": "text/x-python",
   "name": "python",
   "nbconvert_exporter": "python",
   "pygments_lexer": "ipython3",
   "version": "3.10.5"
  }
 },
 "nbformat": 4,
 "nbformat_minor": 2
}
