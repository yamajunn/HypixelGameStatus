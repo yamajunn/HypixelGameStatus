{
 "cells": [
  {
   "cell_type": "code",
   "execution_count": 13,
   "metadata": {},
   "outputs": [],
   "source": [
    "import json\n",
    "import requests\n",
    "import csv\n",
    "import time"
   ]
  },
  {
   "cell_type": "code",
   "execution_count": 14,
   "metadata": {},
   "outputs": [],
   "source": [
    "API_KEY = \"f7c3c976-ee3d-4a05-a996-84fe2944bebd\""
   ]
  },
  {
   "cell_type": "code",
   "execution_count": 15,
   "metadata": {},
   "outputs": [],
   "source": [
    "def getinfo(call):\n",
    "    r = requests.get(call,timeout=10)\n",
    "    return r.json()"
   ]
  },
  {
   "cell_type": "code",
   "execution_count": 16,
   "metadata": {},
   "outputs": [],
   "source": [
    "# with open('Cheaters.json') as f:\n",
    "#     cheaters_uuids = json.load(f)\n",
    "with open('test.json') as f:\n",
    "    players_uuids = json.load(f)"
   ]
  },
  {
   "cell_type": "code",
   "execution_count": 17,
   "metadata": {},
   "outputs": [],
   "source": [
    "dic_labels = [\n",
    "    'karma',\n",
    "    'networkExp',\n",
    "    # 'newPackageRank',\n",
    "    # 'particlePack',\n",
    "    # 'playername',\n",
    "    # 'questSettings',\n",
    "    # 'rankPlusColor',\n",
    "]\n",
    "achievements = [\n",
    "    'bedwars_beds',\n",
    "    'bedwars_bedwars_challenger',\n",
    "    'bedwars_bedwars_killer',\n",
    "    'bedwars_collectors_edition',\n",
    "    'bedwars_level',\n",
    "    'bedwars_loot_box',\n",
    "    'bedwars_slumber_ticket_master',\n",
    "    'bedwars_wins',\n",
    "]\n",
    "challenges = [\n",
    "    'challenges','all_time'\n",
    "    'BEDWARS__defensive',\n",
    "    'BEDWARS__offensive',\n",
    "    'BEDWARS__support',\n",
    "]\n",
    "statuses = [\n",
    "    'Bedwars_openedChests',\n",
    "    'Experience',\n",
    "    '_items_purchased_bedwars',\n",
    "    # 'activeWoodType',\n",
    "    'beds_broken_bedwars',\n",
    "    'beds_lost_bedwars',\n",
    "    'coins',\n",
    "    'deaths_bedwars',\n",
    "    'diamond_resources_collected_bedwars',\n",
    "    'emerald_resources_collected_bedwars',\n",
    "    'fall_deaths_bedwars',\n",
    "    'fall_final_deaths_bedwars',\n",
    "    'fall_final_kills_bedwars',\n",
    "    'fall_kills_bedwars',\n",
    "    # 'favourites_2',\n",
    "    'final_deaths_bedwars',\n",
    "    'final_kills_bedwars',\n",
    "    'games_played_bedwars',\n",
    "    'games_played_bedwars_1',\n",
    "    'kills_bedwars',\n",
    "    'losses_bedwars',\n",
    "    'void_deaths_bedwars',\n",
    "    'void_final_deaths_bedwars',\n",
    "    'void_final_kills_bedwars',\n",
    "    'void_kills_bedwars',\n",
    "    'wins_bedwars',\n",
    "]"
   ]
  },
  {
   "cell_type": "code",
   "execution_count": 18,
   "metadata": {},
   "outputs": [
    {
     "name": "stdout",
     "output_type": "stream",
     "text": [
      "['karma', 'networkExp', 'bedwars_beds', 'bedwars_bedwars_challenger', 'bedwars_bedwars_killer', 'bedwars_collectors_edition', 'bedwars_level', 'bedwars_loot_box', 'bedwars_slumber_ticket_master', 'bedwars_wins', 'challenges', 'all_timeBEDWARS__defensive', 'BEDWARS__offensive', 'BEDWARS__support', 'Bedwars_openedChests', 'Experience', '_items_purchased_bedwars', 'beds_broken_bedwars', 'beds_lost_bedwars', 'coins', 'deaths_bedwars', 'diamond_resources_collected_bedwars', 'emerald_resources_collected_bedwars', 'fall_deaths_bedwars', 'fall_final_deaths_bedwars', 'fall_final_kills_bedwars', 'fall_kills_bedwars', 'final_deaths_bedwars', 'final_kills_bedwars', 'games_played_bedwars', 'games_played_bedwars_1', 'kills_bedwars', 'losses_bedwars', 'void_deaths_bedwars', 'void_final_deaths_bedwars', 'void_final_kills_bedwars', 'void_kills_bedwars', 'wins_bedwars', 'Cheat']\n"
     ]
    }
   ],
   "source": [
    "labels = dic_labels+achievements+challenges+statuses+[\"Cheat\"]\n",
    "print(labels)"
   ]
  },
  {
   "cell_type": "code",
   "execution_count": 19,
   "metadata": {},
   "outputs": [],
   "source": [
    "def get_status(cheat, uuids):\n",
    "    data_list = []\n",
    "    for i, uuid in enumerate(uuids):\n",
    "        uuid_link = f\"https://api.hypixel.net/player?key={API_KEY}&uuid={uuid}\"\n",
    "        data_dic = getinfo(uuid_link)\n",
    "        datas = []\n",
    "        if \"cause\" in data_dic and data_dic[\"cause\"] == \"Key throttle\":\n",
    "            time.sleep(300)\n",
    "        if data_dic is not None and \"player\" in data_dic and data_dic[\"player\"] is not None:\n",
    "            for dic_label in dic_labels:\n",
    "                if dic_label in data_dic[\"player\"]:\n",
    "                    datas.append(data_dic[\"player\"][dic_label])\n",
    "                else:\n",
    "                    datas.append(0)\n",
    "            for achievement in achievements:\n",
    "                if 'achievements' in data_dic[\"player\"] and achievement in data_dic[\"player\"]['achievements']:\n",
    "                    datas.append(data_dic[\"player\"]['achievements'][achievement])\n",
    "                else:\n",
    "                    datas.append(0)\n",
    "            for challenge in challenges:\n",
    "                if 'challenges' in data_dic[\"player\"] and 'all_time' in data_dic[\"player\"]['challenges'] and challenge in data_dic[\"player\"]['challenges']['all_time']:\n",
    "                    datas.append(data_dic[\"player\"]['challenges']['all_time'][challenge])\n",
    "                else:\n",
    "                    datas.append(0)\n",
    "            for stats in statuses:\n",
    "                if 'stats' in data_dic[\"player\"] and 'Bedwars' in data_dic[\"player\"]['stats'] and stats in data_dic[\"player\"]['stats']['Bedwars']:\n",
    "                    datas.append(data_dic[\"player\"]['stats']['Bedwars'][stats])\n",
    "                else:\n",
    "                    datas.append(0)\n",
    "            if cheat:\n",
    "                datas.append(0)\n",
    "            else:\n",
    "                datas.append(1)\n",
    "            for a in range(len(datas)):\n",
    "                if a in [27,32,18,6]:\n",
    "                    datas[a] = 1\n",
    "            for j in [datas[28] / datas[27], datas[37] / datas[32], datas[17] / datas[18], datas[28] / datas[6], datas[31] / datas[6], datas[17] / datas[6]]:\n",
    "                datas.append(j)\n",
    "            if not all(i == 0 for i in datas):\n",
    "                data_list.append(datas)\n",
    "                print(datas)\n",
    "        else:\n",
    "            print(i, data_dic)\n",
    "    return data_list"
   ]
  },
  {
   "cell_type": "code",
   "execution_count": 20,
   "metadata": {},
   "outputs": [
    {
     "name": "stdout",
     "output_type": "stream",
     "text": [
      "[381135, 6522912.0, 810, 30, 2332, 4604, 1, 168, 208, 1263, 0, 0, 90, 63, 504, 837122, 47948, 810, 1, 751015, 9236, 2488, 1449, 458, 63, 87, 331, 1, 1994, 2544, 2991, 5444, 1, 4311, 412, 666, 2257, 1263, 1, 1994.0, 1263.0, 810.0, 1994.0, 5444.0, 810.0]\n"
     ]
    }
   ],
   "source": [
    "# cheaters_datas = get_status(True, cheaters_uuids)\n",
    "players_uuids = [\"1ced16db2bc54354917f7bf8382b8840\"]\n",
    "players_datas = get_status(False, players_uuids)"
   ]
  },
  {
   "cell_type": "code",
   "execution_count": 21,
   "metadata": {},
   "outputs": [],
   "source": [
    "# with open('./Cheaters.csv', 'r',) as e:\n",
    "#     data = e.read()\n",
    "#     data = data.split(\"\\n\")\n",
    "#     csv_list = []\n",
    "#     for item in data:\n",
    "#         split_item = item.split(\",\")\n",
    "#         csv_list.append(split_item)\n",
    "# print(len(players_datas))\n",
    "# with open('./Players.csv', 'w') as f:\n",
    "#     writer = csv.writer(f, lineterminator='\\n')\n",
    "#     writer.writerow(labels)\n",
    "#     writer.writerows(players_datas)\n",
    "    # writer.writerows(players_datas)\n",
    "with open('./test.csv', 'w') as f:\n",
    "    writer = csv.writer(f, lineterminator='\\n')\n",
    "    writer.writerow(labels)\n",
    "    writer.writerows(players_datas)\n",
    "    writer.writerows(players_datas)"
   ]
  },
  {
   "cell_type": "code",
   "execution_count": 22,
   "metadata": {},
   "outputs": [],
   "source": [
    "# players_datas = get_status(False, [\"86f7ba6c40824f6e8a412887e1884352\"])\n",
    "# for item in players_datas:\n",
    "#     # print(f\"{item[0:len(item)-1]},\")\n",
    "#     print(item)"
   ]
  },
  {
   "cell_type": "code",
   "execution_count": 23,
   "metadata": {},
   "outputs": [],
   "source": [
    "# for item in players_datas:\n",
    "#     for i,iitem in enumerate(item):\n",
    "#         if i == len(item)-1:\n",
    "#             print(f\"{iitem}\")\n",
    "#         else:\n",
    "#             print(f\"{iitem},\",end=\"\")"
   ]
  },
  {
   "cell_type": "code",
   "execution_count": 24,
   "metadata": {},
   "outputs": [],
   "source": [
    "# with open('./Cheaters.txt', 'r',) as e:\n",
    "#     data = e.read()\n",
    "#     uuid_list = data.split(\"\\n\")\n",
    "# for item in uuid_list:\n",
    "#     print(f'\"{item}\",')"
   ]
  }
 ],
 "metadata": {
  "kernelspec": {
   "display_name": "Python 3",
   "language": "python",
   "name": "python3"
  },
  "language_info": {
   "codemirror_mode": {
    "name": "ipython",
    "version": 3
   },
   "file_extension": ".py",
   "mimetype": "text/x-python",
   "name": "python",
   "nbconvert_exporter": "python",
   "pygments_lexer": "ipython3",
   "version": "3.10.11"
  }
 },
 "nbformat": 4,
 "nbformat_minor": 2
}
